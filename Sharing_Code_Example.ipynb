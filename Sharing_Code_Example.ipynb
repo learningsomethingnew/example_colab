{
  "nbformat": 4,
  "nbformat_minor": 0,
  "metadata": {
    "colab": {
      "provenance": [],
      "authorship_tag": "ABX9TyO70RVXM0x4JdQM//rCcwbP",
      "include_colab_link": true
    },
    "kernelspec": {
      "name": "python3",
      "display_name": "Python 3"
    },
    "language_info": {
      "name": "python"
    }
  },
  "cells": [
    {
      "cell_type": "markdown",
      "metadata": {
        "id": "view-in-github",
        "colab_type": "text"
      },
      "source": [
        "<a href=\"https://colab.research.google.com/github/learningsomethingnew/example_colab/blob/main/Sharing_Code_Example.ipynb\" target=\"_parent\"><img src=\"https://colab.research.google.com/assets/colab-badge.svg\" alt=\"Open In Colab\"/></a>"
      ]
    },
    {
      "cell_type": "markdown",
      "source": [
        "Click 👆 this to be taken to Coalb\n",
        "\n",
        "# Colab Tips & Tricks\n",
        "Welcome to a quick overview of Colab and some quick things to make your customer's experience easier when running code. This example shows how to download a template csv, upload it csv, and then download the new output."
      ],
      "metadata": {
        "id": "lkYGRzh6Kgep"
      }
    },
    {
      "cell_type": "code",
      "source": [
        "#@title Download CSV Template\n",
        "#@markdown 👈 Click the play button to download the CSV Template. <br>\n",
        "#@markdown This template will be used for uploading and processing.\n",
        "import logging\n",
        "import csv\n",
        "import os \n",
        "\n",
        "import google.colab as gc\n",
        "\n",
        "logger = logging.getLogger('logging_example')\n",
        "\n",
        "logging.basicConfig(\n",
        "  format='%(asctime)s - %(message)s', \n",
        "  level=logging.INFO,\n",
        "  force=True\n",
        ")\n",
        "\n",
        "def write_to_csv(path: str, data: list):\n",
        "### Save data\n",
        "  file_path = os.path.join('/content/', path)\n",
        "  with open( file_path, 'w') as f:\n",
        "    writer = csv.writer(f)\n",
        "    writer.writerows(data)\n",
        "\n",
        "template_data = [['row', 'name', 'data'], ['1', 'Lorum', 'This is an example string']]\n",
        "logger.info(\"Creating template file for use\")\n",
        "write_to_csv(\"/content/template.csv\", template_data)\n",
        "\n",
        "### Downloads data\n",
        "logger.info(\"Downloading the template to your machine\")\n",
        "gc.files.download(f\"/content/template.csv\")"
      ],
      "metadata": {
        "cellView": "form",
        "id": "Q325bs1aYh6z"
      },
      "execution_count": null,
      "outputs": []
    },
    {
      "cell_type": "code",
      "source": [
        "#@title Add 1 Row to the CSV\n",
        "#@markdown 👈 Fill out the below form and then click the play button to start. <br>\n",
        "#@markdown This example code will take the template csv, ask you to upload it, \n",
        "#@markdown add a row from the form fields, and then will download the results. \n",
        "row = 2 #@param {type:\"integer\"}\n",
        "project_name = \"Example text\" #@param {type:\"string\"}\n",
        "data = True #@param [\"True\", \"False\"] {type:\"raw\"}\n",
        "#@markdown the name of the file that will be downloaded after this code completes\n",
        "output_file_name = \"test_file_output.csv\" #@param {type:\"string\"}\n",
        "output_full_path = f\"/content/{output_file_name}\"\n",
        "#@markdown Do you want to have this runtime auto stop when done processing?\n",
        "auto_shutoff = True #@param [\"True\", \"False\"] {type:\"raw\"}\n",
        "#@markdown 👇👇👇 Progress logs will appear below 👇👇👇 \n",
        "\n",
        "# upload template data\n",
        "logger.info(\"At the bottom of this row, a 'Browse File' button will pop up\")\n",
        "uploaded = gc.files.upload()\n",
        "logger.info(\"Uploaded file looks like: \")\n",
        "logger.info(uploaded)\n",
        "# converts the file from bytes to string\n",
        "# need to access the data using the filename as the key\n",
        "str_data = uploaded[list(uploaded.keys())[0]].decode()\n",
        "# open in csv reader and converts it to a list of lists\n",
        "data = list(csv.reader(str_data.splitlines()))\n",
        "logger.info(\"CSV data looks like:\")\n",
        "logger.info(data)\n",
        "### Transform data here\n",
        "data.append([row, project_name, data])\n",
        "logger.info(f\"Saving updated data\")\n",
        "write_to_csv(output_full_path, template_data)\n",
        "### Downloads data\n",
        "logger.info(\"Downloading the file to your machine\")\n",
        "gc.files.download(output_full_path)\n",
        "\n",
        "if auto_shutoff:\n",
        "  logger.info(\"Job has completed. Now closing the runtime\")\n",
        "  # this will delete the instance and turn it off. All files uploaded go poof,\n",
        "  # aka hard delete\n",
        "  gc.runtime.unassign()\n",
        "else:\n",
        "  logger.info(\"Job has completed. Runtime will stay online\")\n",
        "\n",
        "\n"
      ],
      "metadata": {
        "cellView": "form",
        "id": "Sw-SH5Wv4PNI"
      },
      "execution_count": null,
      "outputs": []
    }
  ]
}