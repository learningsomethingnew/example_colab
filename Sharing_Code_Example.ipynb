{
  "nbformat": 4,
  "nbformat_minor": 0,
  "metadata": {
    "colab": {
      "provenance": [],
      "authorship_tag": "ABX9TyNCL0I5milqEVNgA96Lxe2A",
      "include_colab_link": true
    },
    "kernelspec": {
      "name": "python3",
      "display_name": "Python 3"
    },
    "language_info": {
      "name": "python"
    }
  },
  "cells": [
    {
      "cell_type": "markdown",
      "metadata": {
        "id": "view-in-github",
        "colab_type": "text"
      },
      "source": [
        "<a href=\"https://colab.research.google.com/github/learningsomethingnew/example_colab/blob/main/Sharing_Code_Example.ipynb\" target=\"_parent\"><img src=\"https://colab.research.google.com/assets/colab-badge.svg\" alt=\"Open In Colab\"/></a>"
      ]
    },
    {
      "cell_type": "markdown",
      "source": [
        "Click 👆 this to be taken to Coalb\n",
        "\n",
        "# Colab Tips & Tricks\n",
        "Welcome to a quick overview of Colab and some quick things to make your customer's experience easier when running code."
      ],
      "metadata": {
        "id": "lkYGRzh6Kgep"
      }
    },
    {
      "cell_type": "code",
      "source": [
        "#@title Add 1 Row to the CSV\n",
        "#@markdown 👈 Fill out the below form and then click the play button to start\n",
        "\n",
        "import google.colab as gc\n",
        "import csv\n",
        "\n",
        "row = 2 #@param {type:\"integer\"}\n",
        "project_name = \"Example text\" #@param {type:\"string\"}\n",
        "data = True #@param [\"True\", \"False\"] {type:\"raw\"}\n",
        "#@markdown the name of the file that will be downloaded after this code completes\n",
        "output_file_name = \"test_file_output.csv\" #@param {type:\"string\"}\n",
        "# upload template data\n",
        "print(\"At the bottom of this row, a 'Browse File' button will pop up\")\n",
        "# uploaded = gc.files.upload()\n",
        "print(\"Uploaded file looks like: \")\n",
        "display(uploaded)\n",
        "# converts the file from bytes to string\n",
        "str_data = uploaded['test_file.csv'].decode()\n",
        "# open in csv reader and converts it to a list of lists\n",
        "data = list(csv.reader(str_data.splitlines()))\n",
        "print(\"CSV data looks like:\")\n",
        "print(data)\n",
        "### Transform data here\n",
        "data.append([row, project_name, data])\n",
        "### Save data\n",
        "with open(f\"/content/{output_file_name}\", 'w') as f:\n",
        "  writer = csv.writer(f)\n",
        "  writer.writerows(data)\n",
        "\n",
        "### Downloads data\n",
        "gc.files.download(f\"/content/{output_file_name}\")\n"
      ],
      "metadata": {
        "cellView": "form",
        "id": "Sw-SH5Wv4PNI"
      },
      "execution_count": null,
      "outputs": []
    }
  ]
}